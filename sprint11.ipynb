# 🔥 Visualización de incendios con Folium

import pandas as pd
import folium
from folium.plugins import HeatMap, MarkerCluster

# Cargar el dataset
df = pd.read_csv('fires_map.csv')

# Filtrar solo las filas que tienen coordenadas válidas
df = df.dropna(subset=['latitude', 'longitude'])

# --------- Mapa 1: HeatMap (mapa de calor) ---------

mapa1 = folium.Map(location=[df['latitude'].mean(), df['longitude'].mean()], zoom_start=5)

heat_data = [[row['latitude'], row['longitude']] for index, row in df.iterrows()]
HeatMap(heat_data).add_to(mapa1)

mapa1.save('mapa1_heatmap.html')
mapa1

# --------- Mapa 2: Marcadores con popups según brightness ---------

mapa2 = folium.Map(location=[df['latitude'].mean(), df['longitude'].mean()], zoom_start=5)

def color_fuego(brightness):
	if brightness < 330:
		return 'yellow'
	elif brightness < 370:
		return 'orange'
	else:
		return 'red'

for _, row in df.iterrows():
	color = color_fuego(row['brightness'])
	icon = folium.Icon(color=color, icon='fire', prefix='fa')
	folium.Marker(
		location=[row['latitude'], row['longitude']],
		popup=f"Brightness: {row['brightness']}",
		icon=icon
	).add_to(mapa2)

mapa2.save('mapa2_marcadores_colores.html')
mapa2

# --------- Mapa 3: Agrupación con MarkerCluster ---------

mapa3 = folium.Map(location=[df['latitude'].mean(), df['longitude'].mean()], zoom_start=5)

cluster = MarkerCluster().add_to(mapa3)

for _, row in df.iterrows():
	color = color_fuego(row['brightness'])
	icon = folium.Icon(color=color, icon='fire', prefix='fa')
	folium.Marker(
		location=[row['latitude'], row['longitude']],
		popup=f"Brightness: {row['brightness']}",
		icon=icon
	).add_to(cluster)

mapa3.save('mapa3_cluster.html')
mapa3

# --------- Mapa 4: Capas por satélite (Aqua vs Terra) ---------

mapa4 = folium.Map(location=[df['latitude'].mean(), df['longitude'].mean()], zoom_start=5)

aqua = folium.FeatureGroup(name='Aqua')
terra = folium.FeatureGroup(name='Terra')

for _, row in df.iterrows():
	color = 'blue' if row['satellite'] == 'Aqua' else 'green'
	icon = folium.Icon(color=color, icon='fire', prefix='fa')
	marker = folium.Marker(
		location=[row['latitude'], row['longitude']],
		popup=f"Satélite: {row['satellite']}",
		icon=icon
	)
	if row['satellite'] == 'Aqua':
		marker.add_to(aqua)
	else:
		marker.add_to(terra)

aqua.add_to(mapa4)
terra.add_to(mapa4)

folium.LayerControl().add_to(mapa4)

mapa4.save('mapa4_satellite_layers.html')
mapa4

# --------- Mapa 5: Capas por color de brillo ---------

mapa5 = folium.Map(location=[df['latitude'].mean(), df['longitude'].mean()], zoom_start=5)

amarillo = folium.FeatureGroup(name='Amarillo (bajo brillo)')
naranja = folium.FeatureGroup(name='Naranja (brillo medio)')
rojo = folium.FeatureGroup(name='Rojo (alto brillo)')

for _, row in df.iterrows():
	color = color_fuego(row['brightness'])
	icon = folium.Icon(color=color, icon='fire', prefix='fa')
	marker = folium.Marker(
		location=[row['latitude'], row['longitude']],
		popup=f"Brightness: {row['brightness']}",
		icon=icon
	)
	if color == 'yellow':
		marker.add_to(amarillo)
	elif color == 'orange':
		marker.add_to(naranja)
	else:
		marker.add_to(rojo)

amarillo.add_to(mapa5)
naranja.add_to(mapa5)
rojo.add_to(mapa5)

folium.LayerControl().add_to(mapa5)

mapa5.save('mapa5_colores_layers.html')
mapa5
